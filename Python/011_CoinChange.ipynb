{
 "cells": [
  {
   "cell_type": "code",
   "execution_count": 13,
   "id": "5c69e532",
   "metadata": {},
   "outputs": [],
   "source": [
    "currency = [1,2,5,10,20,50,100,200,500,2000]\n",
    "amount = 1001\n",
    "change=[]"
   ]
  },
  {
   "cell_type": "code",
   "execution_count": 14,
   "id": "847facb3",
   "metadata": {},
   "outputs": [],
   "source": [
    "ind = len(currency)-1\n",
    "while amount!=0:\n",
    "    if(currency[ind]<=amount):\n",
    "        change.append(currency[ind])\n",
    "        amount = amount-currency[ind]\n",
    "    elif(currency[ind]>amount):\n",
    "        ind = ind - 1"
   ]
  },
  {
   "cell_type": "code",
   "execution_count": 15,
   "id": "9bc75cf9",
   "metadata": {},
   "outputs": [
    {
     "data": {
      "text/plain": [
       "[500, 500, 1]"
      ]
     },
     "execution_count": 15,
     "metadata": {},
     "output_type": "execute_result"
    }
   ],
   "source": [
    "change"
   ]
  },
  {
   "cell_type": "code",
   "execution_count": null,
   "id": "517d6ebf",
   "metadata": {},
   "outputs": [],
   "source": []
  }
 ],
 "metadata": {
  "kernelspec": {
   "display_name": "Python 3 (ipykernel)",
   "language": "python",
   "name": "python3"
  },
  "language_info": {
   "codemirror_mode": {
    "name": "ipython",
    "version": 3
   },
   "file_extension": ".py",
   "mimetype": "text/x-python",
   "name": "python",
   "nbconvert_exporter": "python",
   "pygments_lexer": "ipython3",
   "version": "3.10.9"
  }
 },
 "nbformat": 4,
 "nbformat_minor": 5
}
